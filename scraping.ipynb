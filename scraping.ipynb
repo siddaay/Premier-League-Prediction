{
 "cells": [
  {
   "cell_type": "code",
   "execution_count": 1,
   "id": "d75f9cc7-9961-4939-88d1-66f74abfe3da",
   "metadata": {},
   "outputs": [],
   "source": [
    "import warnings\n",
    "warnings.simplefilter(action='ignore', category=FutureWarning)"
   ]
  },
  {
   "cell_type": "code",
   "execution_count": 2,
   "id": "f740c1da-9779-46be-8f38-5841acb832f7",
   "metadata": {},
   "outputs": [],
   "source": [
    "import requests"
   ]
  },
  {
   "cell_type": "code",
   "execution_count": 3,
   "id": "809e94da-2967-43db-86d0-9fff03041e6b",
   "metadata": {},
   "outputs": [],
   "source": [
    "standings_url = \"https://fbref.com/en/comps/9/Premier-League-Stats\""
   ]
  },
  {
   "cell_type": "code",
   "execution_count": 4,
   "id": "0ee13919-1669-40cf-8ec8-8bdc40e7f33a",
   "metadata": {},
   "outputs": [],
   "source": [
    "data = requests.get(standings_url)"
   ]
  },
  {
   "cell_type": "raw",
   "id": "1dc80ae2-b3ce-45c9-9247-0c9ebbecdfa0",
   "metadata": {},
   "source": [
    "Use BeautifulSoup to follow links and find the desired standings table"
   ]
  },
  {
   "cell_type": "code",
   "execution_count": 5,
   "id": "d255f218-0626-4011-9beb-34cdc28dd8ce",
   "metadata": {},
   "outputs": [],
   "source": [
    "from bs4 import BeautifulSoup"
   ]
  },
  {
   "cell_type": "code",
   "execution_count": 6,
   "id": "dec2a148-c31c-4281-9606-b782b862c9e7",
   "metadata": {},
   "outputs": [],
   "source": [
    "soup = BeautifulSoup(data.text)"
   ]
  },
  {
   "cell_type": "code",
   "execution_count": 7,
   "id": "8d851909-f9f0-4a7f-86c1-a8fc8fd6ee5a",
   "metadata": {},
   "outputs": [],
   "source": [
    "standings_table = soup.select('table.stats_table')[0]"
   ]
  },
  {
   "cell_type": "code",
   "execution_count": 8,
   "id": "e8aeae51-6af9-4975-818f-405db07e5ea8",
   "metadata": {},
   "outputs": [],
   "source": [
    "links = standings_table.find_all('a')"
   ]
  },
  {
   "cell_type": "code",
   "execution_count": 9,
   "id": "c3e3c404-8f3e-46dd-96e1-bb8d385b32e4",
   "metadata": {},
   "outputs": [],
   "source": [
    "links = [l.get(\"href\") for l in links]"
   ]
  },
  {
   "cell_type": "code",
   "execution_count": 10,
   "id": "e8f6e9b3-337e-41f4-9e1f-122413332e6d",
   "metadata": {},
   "outputs": [],
   "source": [
    "links = [l for l in links if '/squads/' in l]"
   ]
  },
  {
   "cell_type": "code",
   "execution_count": 11,
   "id": "52316a39-df37-4c9c-a0bc-5494a65c6059",
   "metadata": {},
   "outputs": [],
   "source": [
    "team_urls = [f\"https://fbref.com{l}\" for l in links]"
   ]
  },
  {
   "cell_type": "code",
   "execution_count": 12,
   "id": "5697d06e-6ae3-453c-b956-18f1895059ce",
   "metadata": {},
   "outputs": [],
   "source": [
    "team_url = team_urls[0]"
   ]
  },
  {
   "cell_type": "code",
   "execution_count": 13,
   "id": "c8dbe9e3-6f99-4244-9bca-c4c0a5328fc0",
   "metadata": {},
   "outputs": [],
   "source": [
    "data = requests.get(team_url)"
   ]
  },
  {
   "cell_type": "raw",
   "id": "120d886f-5de1-4987-984c-0c4ebb7df3f9",
   "metadata": {},
   "source": [
    "Use pandas to read the data from the page"
   ]
  },
  {
   "cell_type": "code",
   "execution_count": 14,
   "id": "f5fa6232-e15d-4fb9-b83d-970d8bd962e6",
   "metadata": {},
   "outputs": [],
   "source": [
    "import pandas as pd"
   ]
  },
  {
   "cell_type": "code",
   "execution_count": 15,
   "id": "c4c258b5-a363-4011-a6b9-9b612c51b993",
   "metadata": {},
   "outputs": [],
   "source": [
    "matches = pd.read_html(data.text, match=\"Scores & Fixtures\")"
   ]
  },
  {
   "cell_type": "raw",
   "id": "94e938bd-73a6-4d46-8e2e-caeb458f3858",
   "metadata": {},
   "source": [
    "Use BeautifulSoup again, this time to navigate to shooting statistics"
   ]
  },
  {
   "cell_type": "code",
   "execution_count": 16,
   "id": "ec5f791c-991c-449e-bbdd-c5a132dfca11",
   "metadata": {},
   "outputs": [],
   "source": [
    "soup = BeautifulSoup(data.text)"
   ]
  },
  {
   "cell_type": "code",
   "execution_count": 17,
   "id": "bcbb54a0-5569-4d54-a4ca-cc85c87fee1b",
   "metadata": {},
   "outputs": [],
   "source": [
    "links = soup.find_all('a')"
   ]
  },
  {
   "cell_type": "code",
   "execution_count": 18,
   "id": "a0151648-0083-4b39-840d-cce07fc39dde",
   "metadata": {},
   "outputs": [],
   "source": [
    "links = [l.get(\"href\") for l in links]"
   ]
  },
  {
   "cell_type": "code",
   "execution_count": 19,
   "id": "22d80d31-c81c-47ab-934f-d2ddb0a60308",
   "metadata": {},
   "outputs": [],
   "source": [
    "links = [l for l in links if l and 'all_comps/shooting/' in l]"
   ]
  },
  {
   "cell_type": "code",
   "execution_count": 20,
   "id": "1598f1d6-5c37-47e0-8d8a-825d1e437ae0",
   "metadata": {},
   "outputs": [],
   "source": [
    "data = requests.get(f\"https://fbref.com{links[0]}\")"
   ]
  },
  {
   "cell_type": "raw",
   "id": "933715a3-676b-4fd1-8961-f39ed201f6c6",
   "metadata": {},
   "source": [
    "Read the data using pandas again"
   ]
  },
  {
   "cell_type": "code",
   "execution_count": 21,
   "id": "5d3fee2a-deaf-4a4a-9bd6-b4502272cda6",
   "metadata": {},
   "outputs": [],
   "source": [
    "shooting = pd.read_html(data.text, match=\"Shooting\")[0]"
   ]
  },
  {
   "cell_type": "code",
   "execution_count": 22,
   "id": "ab9114c0-e696-4430-a70b-7dec81530d29",
   "metadata": {},
   "outputs": [],
   "source": [
    "shooting.columns = shooting.columns.droplevel()"
   ]
  },
  {
   "cell_type": "code",
   "execution_count": 23,
   "id": "c534cd4c-debc-45f3-970e-6686a65b020c",
   "metadata": {},
   "outputs": [],
   "source": [
    "team_data = matches[0].merge(shooting[[\"Date\", \"Sh\", \"SoT\", \"Dist\", \"FK\", \"PK\", \"PKatt\", \"xG\", \"npxG\"]], on=\"Date\")"
   ]
  },
  {
   "cell_type": "code",
   "execution_count": 24,
   "id": "eef94e63-832e-462c-b7ab-da6bd95c45f2",
   "metadata": {},
   "outputs": [],
   "source": [
    "years = list(range(2024,2017, -1))"
   ]
  },
  {
   "cell_type": "code",
   "execution_count": 25,
   "id": "133af5a9-24c7-4bf9-8347-219801419e40",
   "metadata": {},
   "outputs": [],
   "source": [
    "all_matches = []"
   ]
  },
  {
   "cell_type": "code",
   "execution_count": 26,
   "id": "477a4b50-2723-49be-8f9e-70c92a2a9123",
   "metadata": {},
   "outputs": [],
   "source": [
    "standings_url = \"https://fbref.com/en/comps/9/Premier-League-Stats\""
   ]
  },
  {
   "cell_type": "raw",
   "id": "d12152de-3d35-4eab-b73c-74c54b41f7d2",
   "metadata": {},
   "source": [
    "Now we can repeat the process for all the years of data we want to collect, making sure to sleep for short periods while scraping to avoid being blocked by the website"
   ]
  },
  {
   "cell_type": "code",
   "execution_count": 27,
   "id": "7215e0e6-8e35-4fe8-bbaf-c6f864764a62",
   "metadata": {},
   "outputs": [],
   "source": [
    "import time\n",
    "for year in years:\n",
    "    data = requests.get(standings_url)\n",
    "    soup = BeautifulSoup(data.text)\n",
    "    standings_table = soup.select('table.stats_table')[0]\n",
    "    \n",
    "    links = [l.get(\"href\") for l in standings_table.find_all('a')]\n",
    "    links = [l for l in links if '/squads/' in l]\n",
    "    team_urls = [f\"https://fbref.com{l}\" for l in links]\n",
    "\n",
    "    previous_season = soup.select(\"a.prev\")[0].get(\"href\")\n",
    "    standings_url = f\"https://fbref.com{previous_season}\"\n",
    "\n",
    "    for team_url in team_urls:\n",
    "        team_name = team_url.split(\"/\")[-1].replace(\"-Stats\", \"\").replace(\"-\", \" \")\n",
    "        data = requests.get(team_url)\n",
    "        matches = pd.read_html(data.text, match=\"Scores & Fixtures\")[0]\n",
    "        \n",
    "        soup = BeautifulSoup(data.text)\n",
    "        links = [l.get(\"href\") for l in soup.find_all('a')]\n",
    "        links = [l for l in links if l and 'all_comps/shooting/' in l]\n",
    "        time.sleep(4)\n",
    "        data = requests.get(f\"https://fbref.com{links[0]}\")\n",
    "        shooting = pd.read_html(data.text, match=\"Shooting\")[0]\n",
    "        shooting.columns = shooting.columns.droplevel()\n",
    "\n",
    "        try:\n",
    "            team_data = matches.merge(shooting[[\"Date\", \"Sh\", \"SoT\", \"Dist\", \"FK\", \"PK\", \"PKatt\", \"xG\", \"npxG\"]], on=\"Date\")\n",
    "        except (ValueError, KeyError) as error:\n",
    "            continue\n",
    "\n",
    "        team_data = team_data[team_data[\"Comp\"] == \"Premier League\"]\n",
    "        team_data[\"Season\"] = year\n",
    "        team_data[\"Team\"] = team_name\n",
    "        all_matches.append(team_data)\n",
    "        time.sleep(4)"
   ]
  },
  {
   "cell_type": "code",
   "execution_count": 28,
   "id": "54e9c642-c2fa-4227-91f3-9d7b208cb623",
   "metadata": {},
   "outputs": [],
   "source": [
    "match_df = pd.concat(all_matches)"
   ]
  },
  {
   "cell_type": "code",
   "execution_count": 29,
   "id": "41620245-0304-4445-be45-c0595d850128",
   "metadata": {},
   "outputs": [],
   "source": [
    "match_df.columns = [c.lower() for c in match_df.columns]"
   ]
  },
  {
   "cell_type": "raw",
   "id": "3aab0961-df49-4f12-87d3-2dc75a124071",
   "metadata": {},
   "source": [
    "Save data to csv for use in our prediction model notebook"
   ]
  },
  {
   "cell_type": "code",
   "execution_count": 31,
   "id": "ed088410-edc9-4f91-854d-cedfc0f4ea62",
   "metadata": {},
   "outputs": [],
   "source": [
    "match_df.to_csv(\"matches.csv\")"
   ]
  }
 ],
 "metadata": {
  "kernelspec": {
   "display_name": "Python 3 (ipykernel)",
   "language": "python",
   "name": "python3"
  },
  "language_info": {
   "codemirror_mode": {
    "name": "ipython",
    "version": 3
   },
   "file_extension": ".py",
   "mimetype": "text/x-python",
   "name": "python",
   "nbconvert_exporter": "python",
   "pygments_lexer": "ipython3",
   "version": "3.12.6"
  }
 },
 "nbformat": 4,
 "nbformat_minor": 5
}
